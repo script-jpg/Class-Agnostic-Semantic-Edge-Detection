{
 "cells": [
  {
   "cell_type": "markdown",
   "metadata": {},
   "source": [
    "Download the PASCAL VOC dataset"
   ]
  },
  {
   "cell_type": "code",
   "execution_count": 7,
   "metadata": {},
   "outputs": [],
   "source": [
    "from torchvision.datasets import VOCSegmentation\n",
    "\n",
    "# Define dataset root\n",
    "data_dir = './data'\n",
    "\n",
    "# Initialize the VOCSegmentation dataset\n",
    "voc_full = VOCSegmentation(\n",
    "    root=data_dir,\n",
    "    year='2012',\n",
    "    image_set='trainval',\n",
    "    download=False\n",
    ")\n"
   ]
  },
  {
   "cell_type": "markdown",
   "metadata": {},
   "source": [
    "Create a custom 70/30 split between training and evaluation data"
   ]
  },
  {
   "cell_type": "code",
   "execution_count": 8,
   "metadata": {},
   "outputs": [
    {
     "name": "stdout",
     "output_type": "stream",
     "text": [
      "Total number of images: 2913\n"
     ]
    }
   ],
   "source": [
    "# Get all image file paths\n",
    "image_files = [item[0] for item in voc_full]\n",
    "print(f\"Total number of images: {len(image_files)}\")"
   ]
  },
  {
   "cell_type": "code",
   "execution_count": 9,
   "metadata": {},
   "outputs": [
    {
     "name": "stdout",
     "output_type": "stream",
     "text": [
      "Training samples: 2039\n",
      "Evaluation samples: 874\n"
     ]
    }
   ],
   "source": [
    "from sklearn.model_selection import train_test_split\n",
    "\n",
    "# Split into 70% train and 30% eval\n",
    "train_imgs, eval_imgs = train_test_split(\n",
    "    image_files,\n",
    "    test_size=0.3,\n",
    "    random_state=40\n",
    ")\n",
    "\n",
    "print(f\"Training samples: {len(train_imgs)}\")\n",
    "print(f\"Evaluation samples: {len(eval_imgs)}\")"
   ]
  },
  {
   "cell_type": "code",
   "execution_count": null,
   "metadata": {},
   "outputs": [],
   "source": []
  }
 ],
 "metadata": {
  "kernelspec": {
   "display_name": "Python 3",
   "language": "python",
   "name": "python3"
  },
  "language_info": {
   "codemirror_mode": {
    "name": "ipython",
    "version": 3
   },
   "file_extension": ".py",
   "mimetype": "text/x-python",
   "name": "python",
   "nbconvert_exporter": "python",
   "pygments_lexer": "ipython3",
   "version": "3.12.1"
  }
 },
 "nbformat": 4,
 "nbformat_minor": 2
}
