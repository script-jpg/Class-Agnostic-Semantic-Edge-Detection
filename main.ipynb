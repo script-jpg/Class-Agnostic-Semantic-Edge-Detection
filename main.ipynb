{
 "cells": [
  {
   "cell_type": "markdown",
   "metadata": {},
   "source": [
    "Download the PASCAL VOC dataset"
   ]
  },
  {
   "cell_type": "code",
   "execution_count": 1,
   "metadata": {},
   "outputs": [
    {
     "name": "stdout",
     "output_type": "stream",
     "text": [
      "Downloading http://host.robots.ox.ac.uk/pascal/VOC/voc2012/VOCtrainval_11-May-2012.tar to ./data/VOCtrainval_11-May-2012.tar\n"
     ]
    },
    {
     "name": "stderr",
     "output_type": "stream",
     "text": [
      "100%|██████████| 1999639040/1999639040 [00:53<00:00, 37463762.30it/s]\n"
     ]
    },
    {
     "name": "stdout",
     "output_type": "stream",
     "text": [
      "Extracting ./data/VOCtrainval_11-May-2012.tar to ./data\n",
      "Number of training samples: 1464\n",
      "Number of validation samples: 1449\n"
     ]
    }
   ],
   "source": [
    "from torchvision.datasets import VOCSegmentation\n",
    "\n",
    "# Define the directory where the dataset will be downloaded\n",
    "data_dir = './data'\n",
    "\n",
    "# Initialize the VOCSegmentation dataset for training\n",
    "voc_train = VOCSegmentation(\n",
    "    root=data_dir,\n",
    "    year='2012',\n",
    "    image_set='train',\n",
    "    download=True\n",
    ")\n",
    "\n",
    "# Initialize the VOCSegmentation dataset for validation\n",
    "voc_val = VOCSegmentation(\n",
    "    root=data_dir,\n",
    "    year='2012',\n",
    "    image_set='val',\n",
    "    download=False  # Already downloaded in the training set\n",
    ")\n",
    "\n",
    "print(f\"Number of training samples: {len(voc_train)}\")\n",
    "print(f\"Number of validation samples: {len(voc_val)}\")\n"
   ]
  }
 ],
 "metadata": {
  "kernelspec": {
   "display_name": "Python 3",
   "language": "python",
   "name": "python3"
  },
  "language_info": {
   "codemirror_mode": {
    "name": "ipython",
    "version": 3
   },
   "file_extension": ".py",
   "mimetype": "text/x-python",
   "name": "python",
   "nbconvert_exporter": "python",
   "pygments_lexer": "ipython3",
   "version": "3.12.1"
  }
 },
 "nbformat": 4,
 "nbformat_minor": 2
}
